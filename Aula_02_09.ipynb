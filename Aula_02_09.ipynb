{
  "nbformat": 4,
  "nbformat_minor": 0,
  "metadata": {
    "colab": {
      "name": "Aula-02-09.ipynb",
      "provenance": [],
      "collapsed_sections": [],
      "authorship_tag": "ABX9TyPl9MhQKr0wVwL63qpJsF55",
      "include_colab_link": true
    },
    "kernelspec": {
      "name": "python3",
      "display_name": "Python 3"
    }
  },
  "cells": [
    {
      "cell_type": "markdown",
      "metadata": {
        "id": "view-in-github",
        "colab_type": "text"
      },
      "source": [
        "<a href=\"https://colab.research.google.com/github/JoaoGSP/ColabPython/blob/master/Aula_02_09.ipynb\" target=\"_parent\"><img src=\"https://colab.research.google.com/assets/colab-badge.svg\" alt=\"Open In Colab\"/></a>"
      ]
    },
    {
      "cell_type": "code",
      "metadata": {
        "id": "oP_WI9IK-h5F",
        "colab_type": "code",
        "colab": {
          "base_uri": "https://localhost:8080/",
          "height": 214
        },
        "outputId": "99c3b050-3b14-40c5-efe5-a8758d10c622"
      },
      "source": [
        "'''L1 = ['Teste1', 10, 5, [11, 13, 17] ]\n",
        "L1[1] = L1[1]*L1[2]\n",
        "print(L1)'''\n",
        "\n",
        "'''L1 = ['Teste1', 10, 5, [11, 13, 17] ]\n",
        "print(L1[3][1])'''\n",
        "\n",
        "'''L1 = ['Teste1', 10, 5, [11, 13, 17] ]\n",
        "L1.append(L1[1] + L1[3][0])\n",
        "print(L1)'''\n",
        "\n",
        "'''L2 = ['Teste3', 10, 5, [11, 13, 17] ]\n",
        "print(L2[0][2])\n",
        "print(L2[0][2].upper()) #Letra s maiúscula'''\n",
        "\n",
        "'''L2 = ['Teste3', 10, 5, [11, 13, 17] ]\n",
        "X = int(L2[0][-1]) * L2[2]\n",
        "print(X)'''\n",
        "\n",
        "'''L3 = ['Teste3', 10, 5, 'H', 94, [5, 77.4] ]\n",
        "X = L3.pop(1)\n",
        "print(L3)\n",
        "print(X)\n",
        "L3.remove('H')\n",
        "print(L3)\n",
        "L3 = [] # A lista fica vazia\n",
        "print(L3)'''\n",
        "\n",
        "'''L4 = ['Teste3', 10, 5, 'H', 94, 'H',[5, 77.4] ]\n",
        "print(L4.index('H'))'''\n",
        "\n",
        "int.defensores = 10 * (0,3 + 0.05 * 13)\n",
        "print(defensores)"
      ],
      "execution_count": 33,
      "outputs": [
        {
          "output_type": "error",
          "ename": "TypeError",
          "evalue": "ignored",
          "traceback": [
            "\u001b[0;31m---------------------------------------------------------------------------\u001b[0m",
            "\u001b[0;31mTypeError\u001b[0m                                 Traceback (most recent call last)",
            "\u001b[0;32m<ipython-input-33-da1d6925fcba>\u001b[0m in \u001b[0;36m<module>\u001b[0;34m()\u001b[0m\n\u001b[1;32m     30\u001b[0m print(L4.index('H'))'''\n\u001b[1;32m     31\u001b[0m \u001b[0;34m\u001b[0m\u001b[0m\n\u001b[0;32m---> 32\u001b[0;31m \u001b[0mint\u001b[0m\u001b[0;34m.\u001b[0m\u001b[0mdefensores\u001b[0m \u001b[0;34m=\u001b[0m \u001b[0;36m10\u001b[0m \u001b[0;34m*\u001b[0m \u001b[0;34m(\u001b[0m\u001b[0;36m0\u001b[0m\u001b[0;34m,\u001b[0m\u001b[0;36m3\u001b[0m \u001b[0;34m+\u001b[0m \u001b[0;36m0.05\u001b[0m \u001b[0;34m*\u001b[0m \u001b[0;36m13\u001b[0m\u001b[0;34m)\u001b[0m\u001b[0;34m\u001b[0m\u001b[0;34m\u001b[0m\u001b[0m\n\u001b[0m\u001b[1;32m     33\u001b[0m \u001b[0mprint\u001b[0m\u001b[0;34m(\u001b[0m\u001b[0mdefensores\u001b[0m\u001b[0;34m)\u001b[0m\u001b[0;34m\u001b[0m\u001b[0;34m\u001b[0m\u001b[0m\n",
            "\u001b[0;31mTypeError\u001b[0m: can't set attributes of built-in/extension type 'int'"
          ]
        }
      ]
    },
    {
      "cell_type": "code",
      "metadata": {
        "id": "qr5OG4Z5GBp3",
        "colab_type": "code",
        "colab": {}
      },
      "source": [
        ""
      ],
      "execution_count": null,
      "outputs": []
    },
    {
      "cell_type": "code",
      "metadata": {
        "id": "_srcD6za_Wav",
        "colab_type": "code",
        "colab": {}
      },
      "source": [
        ""
      ],
      "execution_count": null,
      "outputs": []
    }
  ]
}