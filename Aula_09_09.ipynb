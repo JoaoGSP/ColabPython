{
  "nbformat": 4,
  "nbformat_minor": 0,
  "metadata": {
    "colab": {
      "name": "Aula-09-09.ipynb",
      "provenance": [],
      "authorship_tag": "ABX9TyMJWB/aKH56F8GuQJRHo5+3",
      "include_colab_link": true
    },
    "kernelspec": {
      "name": "python3",
      "display_name": "Python 3"
    }
  },
  "cells": [
    {
      "cell_type": "markdown",
      "metadata": {
        "id": "view-in-github",
        "colab_type": "text"
      },
      "source": [
        "<a href=\"https://colab.research.google.com/github/JoaoGSP/ColabPython/blob/master/Aula_09_09.ipynb\" target=\"_parent\"><img src=\"https://colab.research.google.com/assets/colab-badge.svg\" alt=\"Open In Colab\"/></a>"
      ]
    },
    {
      "cell_type": "code",
      "metadata": {
        "id": "-Aciwl0DA3CC",
        "colab_type": "code",
        "colab": {
          "base_uri": "https://localhost:8080/",
          "height": 136
        },
        "outputId": "f88473ce-62e5-4ebb-8821-4b33f6c7f300"
      },
      "source": [
        "'''L1 = [9, 11, 'casa', True, 55.4, ['Outra Lista', 14, False]]\n",
        "print(L1)\n",
        "L1.insert(3, 'Qualquer coisa')\n",
        "print(L1)'''\n",
        "\n",
        "'''L2 = [[1, 3, 5, 7, 9], [2, 4, 6, 8, 10]]\n",
        "print(L2[0][3])\n",
        "print(L2[1][4])'''\n",
        "\n",
        "#Dicionários:\n",
        "'''Dic1 = {'Virtus':99999, 'A3':139999, 'Sentra':90000, 41:'Cachaça'}\n",
        "print(Dic1[41])'''\n",
        "\n",
        "'''Dic2 = {'Carne': 3.99, 'Carne':4.99, 'Carne':2.99, 4:2, 'Carne':1.99}\n",
        "print(Dic2['Carne']) #Jeito errado de utilizar um Dicionários\n",
        "#Deve ser utilizado um único valor Key\n",
        "#key:value'''\n",
        "\n",
        "'''Dic3 = {'L1':['Artur', 'Henrique'], 'L2':['Marcus', 'Gabriel']}\n",
        "print(Dic3['L1'][0])\n",
        "print(Dic3['L1'][1])\n",
        "print(Dic3['L2'][0])\n",
        "print(Dic3['L2'][1])'''\n",
        "\n",
        "'''Dic4 = {'L1':{'Func1':'Artur', 'Func2':'Henrique'}, 'L2':{'Func1':'Marcus', 'Func2':'Gabriel'}}\n",
        "print(Dic4['L1']['Func1'])\n",
        "print(Dic4['L1']['Func2'])\n",
        "print(Dic4['L2']['Func1'])\n",
        "print(Dic4['L2']['Func2'])'''\n",
        "\n",
        "'''Dic5 = {'Lago':{'Skol':3, 'Sol':5.99}, 'Cei':{'Skol':2, 'Sol':3.99}}\n",
        "print(Dic5['Lago']['Skol'])\n",
        "print(Dic5['Lago']['Sol'])\n",
        "print(Dic5['Cei']['Skol'])\n",
        "print(Dic5['Cei']['Sol'])\n",
        "print( (Dic5['Lago']['Skol']/Dic5['Cei']['Skol'] - 1)*100, '%')\n",
        "Dic5['Lago']['Skol'] = 4\n",
        "print(Dic5)\n",
        "C_LS_Skol = 15*Dic5['Lago']['Skol']\n",
        "print('A caixinha da Skol no Lago Sul é:', C_LS_Skol)''' \n",
        "\n",
        "Dic6 = {'L1':{'Cebola':{'Branca':3.99, 'Roxa':9.99}, 'Banana':{'Prata':4.99, 'Nanica':3.99}}, \n",
        "        'L2':{'Cebola':{'Branca':1.99, 'Roxa':7.99}, 'Banana':{'Prata':2.99, 'Nanica':1.99}}}\n",
        "print(Dic6[][][])"
      ],
      "execution_count": 25,
      "outputs": [
        {
          "output_type": "stream",
          "text": [
            "3\n",
            "5.99\n",
            "2\n",
            "3.99\n",
            "50.0 %\n",
            "{'Lago': {'Skol': 4, 'Sol': 5.99}, 'Cei': {'Skol': 2, 'Sol': 3.99}}\n",
            "A caixinha da Skol no Lago Sul é: 60\n"
          ],
          "name": "stdout"
        }
      ]
    },
    {
      "cell_type": "code",
      "metadata": {
        "id": "hlPB5rkABa8T",
        "colab_type": "code",
        "colab": {}
      },
      "source": [
        ""
      ],
      "execution_count": null,
      "outputs": []
    }
  ]
}