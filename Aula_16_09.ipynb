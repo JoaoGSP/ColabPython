{
  "nbformat": 4,
  "nbformat_minor": 0,
  "metadata": {
    "colab": {
      "name": "Aula-16-09.ipynb",
      "provenance": [],
      "authorship_tag": "ABX9TyMVbGKNGv6oXA7oTJCouVDE",
      "include_colab_link": true
    },
    "kernelspec": {
      "name": "python3",
      "display_name": "Python 3"
    }
  },
  "cells": [
    {
      "cell_type": "markdown",
      "metadata": {
        "id": "view-in-github",
        "colab_type": "text"
      },
      "source": [
        "<a href=\"https://colab.research.google.com/github/JoaoGSP/ColabPython/blob/master/Aula_16_09.ipynb\" target=\"_parent\"><img src=\"https://colab.research.google.com/assets/colab-badge.svg\" alt=\"Open In Colab\"/></a>"
      ]
    },
    {
      "cell_type": "code",
      "metadata": {
        "id": "3qpNITAZD7oX",
        "colab_type": "code",
        "colab": {
          "base_uri": "https://localhost:8080/",
          "height": 187
        },
        "outputId": "877e68cd-167d-477d-fd4e-733da234b034"
      },
      "source": [
        "'''MeuArquivo = open('Texto.txt')\n",
        "Caracteres = MeuArquivo.read()\n",
        "print(Caracteres)\n",
        "MeuArquivo.seek(0)\n",
        "Linhas = MeuArquivo.readlines()\n",
        "print(Linhas)\n",
        "MeuArquivo.close()'''\n",
        "\n",
        "'''Str1 = 'Carro Moto Tanque Avião'\n",
        "Arq1 = open('Maquinas.txt', 'w') #Modo Write\n",
        "Arq1.write(Str1)\n",
        "Arq1.close()'''\n",
        "\n",
        "'''Arq1 = open('Texto.txt')\n",
        "Str1 = Arq1.read()\n",
        "Arq1.close()\n",
        "StrFinal = 'Probabilidade e Estatistica IESB 2020' + '\\n\\n' + Str1\n",
        "print(StrFinal)\n",
        "Arq2 = open('Novo.txt', 'w')\n",
        "Arq2.write(StrFinal)\n",
        "Arq2.close()'''\n",
        "\n"
      ],
      "execution_count": 7,
      "outputs": [
        {
          "output_type": "stream",
          "text": [
            "Probabilidade e Estatistica IESB 2020\n",
            "\n",
            "Lorem Ipsum is simply dummy text of the printing and typesetting industry.\n",
            "Lorem Ipsum has been the industry's standard dummy text ever since the 1500s,\n",
            "when an unknown printer took a galley of type and scrambled it to make a type \n",
            "specimen book. It has survived not only five centuries, but also the leap into \n",
            "electronic typesetting, remaining essentially unchanged. It was popularised in \n",
            "the 1960s with the release of Letraset sheets containing Lorem Ipsum passages, a\n",
            "nd more recently with desktop publishing software like Aldus PageMaker including \n",
            "versions of Lorem Ipsum.\n"
          ],
          "name": "stdout"
        }
      ]
    },
    {
      "cell_type": "code",
      "metadata": {
        "id": "iyHISoHZJzCN",
        "colab_type": "code",
        "colab": {}
      },
      "source": [
        ""
      ],
      "execution_count": null,
      "outputs": []
    }
  ]
}